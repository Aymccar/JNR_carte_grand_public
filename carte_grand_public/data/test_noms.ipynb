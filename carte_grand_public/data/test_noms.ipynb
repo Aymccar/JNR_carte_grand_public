{
 "cells": [
  {
   "cell_type": "code",
   "execution_count": 1,
   "metadata": {},
   "outputs": [],
   "source": [
    "import pandas as pd"
   ]
  },
  {
   "cell_type": "code",
   "execution_count": 3,
   "metadata": {},
   "outputs": [],
   "source": [
    "ids = [\n",
    "    'atelier_jeux',\n",
    "    'atelier_sensibilisation',\n",
    "    'conference',\n",
    "    'exercice_de_gestion_de_crise',\n",
    "    'exposition',\n",
    "    'formation',\n",
    "    'reunion_d_information',\n",
    "    'spectacle',\n",
    "    'visite_en_plein_air',\n",
    "    'visite_en_interieur',\n",
    "]\n",
    "\n",
    "labels = [\n",
    "    'Atelier avec jeux',\n",
    "    'Atelier de sensibilisation',\n",
    "    'Conférence',\n",
    "    'Exercice de gestion de crise',\n",
    "    'Exposition',\n",
    "    'Formation',\n",
    "    'Réunion d\\'information',\n",
    "    'Spectacle',\n",
    "    'Visite en plein air',\n",
    "    'Visite en intérieur',\n",
    "]"
   ]
  },
  {
   "cell_type": "code",
   "execution_count": 4,
   "metadata": {},
   "outputs": [],
   "source": [
    "html = \"\"\n",
    "for id_, label in zip(ids, labels):\n",
    "    html += f\"\"\"\n",
    "<div class=\"form-check\">\n",
    "    <input type=\"checkbox\" class=\"form-check-input\" id=\"{id_}\">\n",
    "    <label class=\"form-check-label\" for=\"{id_}\">{label}</label>\n",
    "</div>\n",
    "\"\"\"\n",
    "    \n",
    "\n",
    "with open(\"tmp.txt\", \"w\") as io:\n",
    "    io.write(html)\n",
    " "
   ]
  },
  {
   "cell_type": "code",
   "execution_count": 2,
   "metadata": {},
   "outputs": [],
   "source": [
    "df1 = pd.read_csv(\"./actions_grand_public_carte.csv\")\n",
    "df2 = pd.read_csv(\"./actions_grand_public_carte_0.csv\")"
   ]
  },
  {
   "cell_type": "code",
   "execution_count": 3,
   "metadata": {},
   "outputs": [
    {
     "name": "stdout",
     "output_type": "stream",
     "text": [
      "Index(['organisateur', 'etat_dossier', 'description_projet', 'nom',\n",
      "       'description_action', 'lien_programme', 'est_dematerialisee', 'adresse',\n",
      "       'nom_commune', 'nom_departement', 'insee_dep', 'date_debut', 'date_fin',\n",
      "       'type_action_str', 'est_grand_public', 'public_cible_str',\n",
      "       'risque_cible_str', 'est_atelier_jeux', 'est_atelier_sensibilisation',\n",
      "       'est_conference', 'est_exercice_de_gestion_de_crise', 'est_exposition',\n",
      "       'est_formation', 'est_reunion_d_information', 'est_spectacle',\n",
      "       'est_visite_en_plein_air', 'est_visite_en_interieur', 'est_autre',\n",
      "       'est_tous_public', 'est_famille', 'est_jeune_public', 'est_seniors',\n",
      "       'est_risques_naturels', 'est_risques_technologiques', 'est_inondations',\n",
      "       'est_feux_de_foret', 'est_tempete_cyclone', 'est_seisme',\n",
      "       'est_eruption_volcanique', 'est_mouvement_de_terrain',\n",
      "       'est_risques_littoraux', 'est_avalanche', 'est_radon',\n",
      "       'est_accidents_industriels', 'est_accidents_nucleaires',\n",
      "       'est_rupture_de_barrage', 'est_transport_de_matieres_dangereuses',\n",
      "       'Lat', 'Lon'],\n",
      "      dtype='object')\n"
     ]
    }
   ],
   "source": [
    "print(df1.columns)"
   ]
  },
  {
   "cell_type": "code",
   "execution_count": 4,
   "metadata": {},
   "outputs": [
    {
     "name": "stdout",
     "output_type": "stream",
     "text": [
      "Index(['dossier_id', 'nom', 'description', 'risques_cibles',\n",
      "       'risques_naturels', 'risques_technologiques', 'public_cible',\n",
      "       'date_debut', 'date_fin', 'adresse', 'nom_commune', 'insee_dep',\n",
      "       'departement', 'id', 'organisateur', 'etat_du_dossier',\n",
      "       'est_risques_naturels', 'est_risques_technologiques', 'est_inondations',\n",
      "       'est_feux_de_foret', 'est_tempete_cyclone', 'est_seisme',\n",
      "       'est_eruption_volcanique', 'est_mouvement_de_terrain',\n",
      "       'est_risques_littoraux', 'est_avalanche', 'est_radon',\n",
      "       'est_accidents_industriels', 'est_accidents_nucleaires',\n",
      "       'est_rupture_de_barrage', 'est_transport_de_matieres_dangereuses',\n",
      "       'est_tous_public', 'est_famille', 'est_jeune_public', 'est_seniors',\n",
      "       'lat', 'lon', 'action_id'],\n",
      "      dtype='object')\n"
     ]
    }
   ],
   "source": [
    "print(df2.columns)"
   ]
  },
  {
   "cell_type": "code",
   "execution_count": 5,
   "metadata": {},
   "outputs": [
    {
     "name": "stdout",
     "output_type": "stream",
     "text": [
      "dossier_id\n",
      "description\n",
      "risques_cibles\n",
      "risques_naturels\n",
      "risques_technologiques\n",
      "public_cible\n",
      "departement\n",
      "id\n",
      "etat_du_dossier\n",
      "lat\n",
      "lon\n",
      "action_id\n"
     ]
    }
   ],
   "source": [
    "for col1 in df2.columns:\n",
    "    if col1 not in df1.columns:\n",
    "        print(col1)"
   ]
  },
  {
   "cell_type": "code",
   "execution_count": null,
   "metadata": {},
   "outputs": [],
   "source": []
  }
 ],
 "metadata": {
  "kernelspec": {
   "display_name": "base",
   "language": "python",
   "name": "python3"
  },
  "language_info": {
   "codemirror_mode": {
    "name": "ipython",
    "version": 3
   },
   "file_extension": ".py",
   "mimetype": "text/x-python",
   "name": "python",
   "nbconvert_exporter": "python",
   "pygments_lexer": "ipython3",
   "version": "3.10.9"
  },
  "orig_nbformat": 4
 },
 "nbformat": 4,
 "nbformat_minor": 2
}
