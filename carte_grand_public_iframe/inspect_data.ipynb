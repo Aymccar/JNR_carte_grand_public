{
 "cells": [
  {
   "cell_type": "code",
   "execution_count": 1,
   "metadata": {},
   "outputs": [],
   "source": [
    "import pandas as pd"
   ]
  },
  {
   "cell_type": "code",
   "execution_count": 2,
   "metadata": {},
   "outputs": [],
   "source": [
    "df = pd.read_csv(\"./data/actions_grand_public_carte.csv\")"
   ]
  },
  {
   "cell_type": "code",
   "execution_count": 3,
   "metadata": {},
   "outputs": [],
   "source": [
    "df2 = pd.read_csv(\"./data/actions_grand_public_carte_0.csv\")"
   ]
  },
  {
   "cell_type": "code",
   "execution_count": 4,
   "metadata": {},
   "outputs": [
    {
     "data": {
      "text/plain": [
       "Index(['organisateur', 'etat_dossier', 'description_projet', 'zone_geo_projet',\n",
       "       'id_action', 'nom', 'description_action', 'lien_programme',\n",
       "       'est_dematerialisee', 'adresse', 'nom_commune', 'nom_departement',\n",
       "       'insee_dep', 'date_debut', 'date_fin', 'type_action_str',\n",
       "       'est_grand_public', 'public_cible_str', 'risque_cible_str',\n",
       "       'est_atelier_jeux', 'est_atelier_sensibilisation', 'est_conference',\n",
       "       'est_exercice_de_gestion_de_crise', 'est_exposition', 'est_formation',\n",
       "       'est_reunion_d_information', 'est_spectacle', 'est_visite_en_plein_air',\n",
       "       'est_visite_en_interieur', 'est_autre', 'est_tous_public',\n",
       "       'est_famille', 'est_jeune_public', 'est_seniors',\n",
       "       'est_risques_naturels', 'est_risques_technologiques', 'est_inondations',\n",
       "       'est_feux_de_foret', 'est_tempete_cyclone', 'est_seisme',\n",
       "       'est_eruption_volcanique', 'est_mouvement_de_terrain',\n",
       "       'est_risques_littoraux', 'est_avalanche', 'est_radon',\n",
       "       'est_accidents_industriels', 'est_accidents_nucleaires',\n",
       "       'est_rupture_de_barrage', 'est_transport_de_matieres_dangereuses'],\n",
       "      dtype='object')"
      ]
     },
     "execution_count": 4,
     "metadata": {},
     "output_type": "execute_result"
    }
   ],
   "source": [
    "df.columns"
   ]
  },
  {
   "cell_type": "code",
   "execution_count": 5,
   "metadata": {},
   "outputs": [
    {
     "data": {
      "text/plain": [
       "Index(['dossier_id', 'nom', 'description', 'risques_cibles',\n",
       "       'risques_naturels', 'risques_technologiques', 'public_cible',\n",
       "       'date_debut', 'date_fin', 'adresse', 'nom_commune', 'insee_dep',\n",
       "       'departement', 'id', 'organisateur', 'etat_du_dossier',\n",
       "       'est_risques_naturels', 'est_risques_technologiques', 'est_inondations',\n",
       "       'est_feux_de_foret', 'est_tempete_cyclone', 'est_seisme',\n",
       "       'est_eruption_volcanique', 'est_mouvement_de_terrain',\n",
       "       'est_risques_littoraux', 'est_avalanche', 'est_radon',\n",
       "       'est_accidents_industriels', 'est_accidents_nucleaires',\n",
       "       'est_rupture_de_barrage', 'est_transport_de_matieres_dangereuses',\n",
       "       'est_tous_public', 'est_famille', 'est_jeune_public', 'est_seniors',\n",
       "       'lat', 'lon', 'action_id'],\n",
       "      dtype='object')"
      ]
     },
     "execution_count": 5,
     "metadata": {},
     "output_type": "execute_result"
    }
   ],
   "source": [
    "df2.columns"
   ]
  },
  {
   "cell_type": "code",
   "execution_count": null,
   "metadata": {},
   "outputs": [],
   "source": []
  }
 ],
 "metadata": {
  "kernelspec": {
   "display_name": "base",
   "language": "python",
   "name": "python3"
  },
  "language_info": {
   "codemirror_mode": {
    "name": "ipython",
    "version": 3
   },
   "file_extension": ".py",
   "mimetype": "text/x-python",
   "name": "python",
   "nbconvert_exporter": "python",
   "pygments_lexer": "ipython3",
   "version": "3.9.12"
  },
  "orig_nbformat": 4
 },
 "nbformat": 4,
 "nbformat_minor": 2
}
